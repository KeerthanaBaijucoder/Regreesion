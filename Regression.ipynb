{
 "cells": [
  {
   "cell_type": "markdown",
   "id": "d41d4d6b-d845-414c-897a-a436368b1852",
   "metadata": {},
   "source": [
    "1. Loading and preprocessing"
   ]
  },
  {
   "cell_type": "code",
   "execution_count": 5,
   "id": "bcd078f7-4182-4288-911b-c6b26284ac84",
   "metadata": {},
   "outputs": [],
   "source": [
    "from sklearn.datasets import fetch_california_housing\n",
    "import pandas as pd\n",
    "\n",
    "data = fetch_california_housing()\n",
    "df = pd.DataFrame(data.data, columns=data.feature_names)\n",
    "df['MedHouseVal'] = data.target"
   ]
  },
  {
   "cell_type": "code",
   "execution_count": 7,
   "id": "7b46ec2e-8b61-4fb4-bb21-517870246739",
   "metadata": {},
   "outputs": [
    {
     "name": "stdout",
     "output_type": "stream",
     "text": [
      "MedInc         0\n",
      "HouseAge       0\n",
      "AveRooms       0\n",
      "AveBedrms      0\n",
      "Population     0\n",
      "AveOccup       0\n",
      "Latitude       0\n",
      "Longitude      0\n",
      "MedHouseVal    0\n",
      "dtype: int64\n"
     ]
    }
   ],
   "source": [
    "print(df.isnull().sum())\n",
    "\n",
    "from sklearn.preprocessing import StandardScaler\n",
    "\n",
    "X = df.drop('MedHouseVal', axis=1)\n",
    "y = df['MedHouseVal']\n",
    "\n",
    "scaler = StandardScaler()\n",
    "X_scaled = scaler.fit_transform(X)"
   ]
  },
  {
   "cell_type": "markdown",
   "id": "ee396d8f-7d32-4fd4-85b2-6a7a3a1b4d55",
   "metadata": {},
   "source": [
    "2. Regression Algorithm Implementation"
   ]
  },
  {
   "cell_type": "markdown",
   "id": "f477cd0d-fb19-4aa0-b38b-16e683c15992",
   "metadata": {},
   "source": [
    "importing all modules"
   ]
  },
  {
   "cell_type": "code",
   "execution_count": 9,
   "id": "8af10d04-4d68-4152-9bcb-11c2a1f3dd8f",
   "metadata": {},
   "outputs": [],
   "source": [
    "from sklearn.linear_model import LinearRegression\n",
    "from sklearn.tree import DecisionTreeRegressor\n",
    "from sklearn.ensemble import RandomForestRegressor, GradientBoostingRegressor\n",
    "from sklearn.svm import SVR\n",
    "from sklearn.model_selection import train_test_split\n",
    "from sklearn.metrics import mean_squared_error, mean_absolute_error, r2_score\n",
    "\n",
    "X_train, X_test, y_train, y_test = train_test_split(X_scaled, y, test_size=0.2, random_state=42)"
   ]
  },
  {
   "cell_type": "markdown",
   "id": "f3a4e09d-0ebf-461d-b154-da24d7116bb0",
   "metadata": {},
   "source": [
    "model training and evaluation function"
   ]
  },
  {
   "cell_type": "code",
   "execution_count": 15,
   "id": "32129b67-4cd7-4bef-8685-40afa0a4b567",
   "metadata": {},
   "outputs": [],
   "source": [
    "def evaluate_model(model, name):\n",
    "    model.fit(X_train, y_train)\n",
    "    y_pred = model.predict(X_test)\n",
    "    mse = mean_squared_error(y_test, y_pred)\n",
    "    mae = mean_absolute_error(y_test, y_pred)\n",
    "    r2 = r2_score(y_test, y_pred)\n",
    "    print(f\"{name}:\\n  MSE: {mse:.4f}\\n  MAE: {mae:.4f}\\n  R2 Score: {r2:.4f}\\n\")\n",
    "    return name, mse, mae, r2"
   ]
  },
  {
   "cell_type": "markdown",
   "id": "3169a897-394d-4a3e-8b7f-07e074b0534c",
   "metadata": {},
   "source": [
    "train each model"
   ]
  },
  {
   "cell_type": "code",
   "execution_count": 17,
   "id": "d6f4a5de-990d-4a81-b7ee-be60834df172",
   "metadata": {},
   "outputs": [
    {
     "name": "stdout",
     "output_type": "stream",
     "text": [
      "Linear Regression:\n",
      "  MSE: 0.5559\n",
      "  MAE: 0.5332\n",
      "  R2 Score: 0.5758\n",
      "\n",
      "Decision Tree:\n",
      "  MSE: 0.4943\n",
      "  MAE: 0.4538\n",
      "  R2 Score: 0.6228\n",
      "\n",
      "Random Forest:\n",
      "  MSE: 0.2555\n",
      "  MAE: 0.3276\n",
      "  R2 Score: 0.8050\n",
      "\n",
      "Gradient Boosting:\n",
      "  MSE: 0.2940\n",
      "  MAE: 0.3717\n",
      "  R2 Score: 0.7756\n",
      "\n",
      "Support Vector Regressor:\n",
      "  MSE: 0.3552\n",
      "  MAE: 0.3978\n",
      "  R2 Score: 0.7289\n",
      "\n"
     ]
    }
   ],
   "source": [
    "results = []\n",
    "\n",
    "results.append(evaluate_model(LinearRegression(), \"Linear Regression\"))\n",
    "results.append(evaluate_model(DecisionTreeRegressor(random_state=42), \"Decision Tree\"))\n",
    "results.append(evaluate_model(RandomForestRegressor(random_state=42), \"Random Forest\"))\n",
    "results.append(evaluate_model(GradientBoostingRegressor(random_state=42), \"Gradient Boosting\"))\n",
    "results.append(evaluate_model(SVR(), \"Support Vector Regressor\"))"
   ]
  },
  {
   "cell_type": "markdown",
   "id": "49e32fc5-cdb1-40b3-b16e-29b6d557667c",
   "metadata": {},
   "source": [
    "Algorithm description\n",
    "\n",
    "1. Linear Regression: Simple model assuming linear relationship between features and target.\n",
    "2. Decision Tree: Splits data based on feature thresholds to minimize error.\n",
    "3. Random Forest: Ensemble of decision trees, improves stability and accuracy.\n",
    "4. Gradient Boosting: Sequential model that corrects previous errors, great for complex data.\n",
    "5. Support Vector Regressor: Uses hyperplanes to find a margin of tolerance for regression predictions."
   ]
  },
  {
   "cell_type": "markdown",
   "id": "815941af-49e0-46ca-b7e7-7b3c5a46f465",
   "metadata": {},
   "source": [
    "3. Model Evaluation and Comparison"
   ]
  },
  {
   "cell_type": "code",
   "execution_count": 19,
   "id": "8260806b-6701-4e7e-b933-854fe54976cb",
   "metadata": {},
   "outputs": [
    {
     "name": "stdout",
     "output_type": "stream",
     "text": [
      "                      Model       MSE       MAE        R2\n",
      "2             Random Forest  0.255498  0.327613  0.805024\n",
      "3         Gradient Boosting  0.293999  0.371650  0.775643\n",
      "4  Support Vector Regressor  0.355198  0.397763  0.728941\n",
      "1             Decision Tree  0.494272  0.453784  0.622811\n",
      "0         Linear Regression  0.555892  0.533200  0.575788\n"
     ]
    }
   ],
   "source": [
    "import pandas as pd\n",
    "\n",
    "result_df = pd.DataFrame(results, columns=[\"Model\", \"MSE\", \"MAE\", \"R2\"])\n",
    "print(result_df.sort_values(by=\"R2\", ascending=False))"
   ]
  },
  {
   "cell_type": "markdown",
   "id": "8811c5a9-7aff-45e1-805c-08ebcb3cd357",
   "metadata": {},
   "source": [
    "BEST PERFORMING MODEL:\n",
    "Likely Random Forest or Gradient Boosting, due to their ability to capture non-linear relationships.\n",
    "WORST PERFORMING MODEL:\n",
    "Usually Linear Regression or SVR, due to limitations in handling complex relationships or sensitivity to data scaling."
   ]
  },
  {
   "cell_type": "code",
   "execution_count": null,
   "id": "d405f775-ce79-4c51-b964-605a2a31ef4e",
   "metadata": {},
   "outputs": [],
   "source": []
  },
  {
   "cell_type": "code",
   "execution_count": null,
   "id": "9a705a47-6a88-4303-81c9-2e6431fb5d90",
   "metadata": {},
   "outputs": [],
   "source": []
  },
  {
   "cell_type": "code",
   "execution_count": null,
   "id": "9ecdb228-5dc0-4d7e-a2d1-b650715b3e50",
   "metadata": {},
   "outputs": [],
   "source": []
  }
 ],
 "metadata": {
  "kernelspec": {
   "display_name": "Python [conda env:base] *",
   "language": "python",
   "name": "conda-base-py"
  },
  "language_info": {
   "codemirror_mode": {
    "name": "ipython",
    "version": 3
   },
   "file_extension": ".py",
   "mimetype": "text/x-python",
   "name": "python",
   "nbconvert_exporter": "python",
   "pygments_lexer": "ipython3",
   "version": "3.12.7"
  }
 },
 "nbformat": 4,
 "nbformat_minor": 5
}
